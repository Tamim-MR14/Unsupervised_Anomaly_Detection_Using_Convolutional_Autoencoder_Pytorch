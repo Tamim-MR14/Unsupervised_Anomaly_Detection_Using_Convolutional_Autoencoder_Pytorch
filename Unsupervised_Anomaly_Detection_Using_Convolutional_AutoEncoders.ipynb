{
 "cells": [
  {
   "cell_type": "code",
   "execution_count": 38,
   "metadata": {},
   "outputs": [],
   "source": [
    "import torch\n",
    "import numpy as np\n",
    "from torchvision import datasets\n",
    "import torchvision.transforms as transforms\n",
    "import random\n",
    "from sklearn.model_selection import train_test_split\n",
    "\n",
    "transform = transforms.ToTensor()\n",
    "\n",
    "\n",
    "# load the training and test datasets\n",
    "train_data = datasets.MNIST(root='data', train=True,\n",
    "                                   download=True, transform=transform)\n",
    "# test_data = datasets.MNIST(root='data', train=False,\n",
    "#                                   download=True, transform=None)"
   ]
  },
  {
   "cell_type": "code",
   "execution_count": 39,
   "metadata": {},
   "outputs": [],
   "source": [
    "# # Create training and test dataloaders\n",
    "\n",
    "# num_workers = 0\n",
    "# # how many samples per batch to load\n",
    "# batch_size = 20\n",
    "\n",
    "# # prepare data loaders\n",
    "# train_loader = torch.utils.data.DataLoader(train_data, batch_size=batch_size, num_workers=num_workers)\n",
    "# test_loader = torch.utils.data.DataLoader(test_data, batch_size=batch_size, num_workers=num_workers)"
   ]
  },
  {
   "cell_type": "code",
   "execution_count": 40,
   "metadata": {},
   "outputs": [],
   "source": [
    "\n",
    "# regtarget=1\n",
    "# anomalytarget=3\n",
    "# contam=0.01\n",
    "# seed=42\n",
    "\n",
    "\n",
    "# regIdxs = np.where(targets == regtarget)[0]\n",
    "# anomalyIdxs = np.where(targets == anomalytarget)[0]\n",
    "\n",
    "# # randomly shuffle both sets of indexes\n",
    "# np.random.seed(42)\n",
    "# np.random.shuffle(regIdxs)\n",
    "# np.random.shuffle(anomalyIdxs)\n",
    "\n",
    "# # compute the total number of anomaly data points to select\n",
    "# i = int(len(regIdxs) * contam)\n",
    "# anomalyIdxs = anomalyIdxs[:i]\n",
    "\n",
    "# # use NumPy array indexing to extract both the valid images and\n",
    "# # \"anomlay\" images\n",
    "# regImages = data[regIdxs]\n",
    "# anomalyImages = data[anomalyIdxs]\n",
    "\n",
    "# # stack the valid images and anomaly images together to form a\n",
    "# # single data matrix and then shuffle the rows\n",
    "# images = np.vstack([regImages, anomalyImages])\n",
    "# np.random.seed(seed)\n",
    "# np.random.shuffle(images)\n"
   ]
  },
  {
   "cell_type": "code",
   "execution_count": 41,
   "metadata": {},
   "outputs": [],
   "source": [
    "def create_unsupervised_dataset(data, targets, regtarget=1,\n",
    "    anomalytarget=3, contam=0.01, seed=42):\n",
    "    # grab all indexes of the supplied class label that are *truly*\n",
    "    # that particular label, then grab the indexes of the image\n",
    "    # labels that will serve as our \"anomalies\"\n",
    "    regIdxs = np.where(targets == regtarget)[0]\n",
    "    anomalyIdxs = np.where(targets == anomalytarget)[0]\n",
    "\n",
    "    # randomly shuffle both sets of indexes\n",
    "    np.random.seed(42)\n",
    "    np.random.shuffle(regIdxs)\n",
    "    np.random.shuffle(anomalyIdxs)\n",
    "\n",
    "    # compute the total number of anomaly data points to select\n",
    "    i = int(len(regIdxs) * contam)\n",
    "    anomalyIdxs = anomalyIdxs[:i]\n",
    "\n",
    "    # use NumPy array indexing to extract both the valid images and\n",
    "    # \"anomlay\" images\n",
    "    regImages = data[regIdxs]\n",
    "    anomalyImages = data[anomalyIdxs]\n",
    "\n",
    "    # stack the valid images and anomaly images together to form a\n",
    "    # single data matrix and then shuffle the rows\n",
    "    images = np.vstack([regImages, anomalyImages])\n",
    "    np.random.seed(seed)\n",
    "    np.random.shuffle(images)\n",
    "\n",
    "    # return the set of images\n",
    "    return images"
   ]
  },
  {
   "cell_type": "code",
   "execution_count": 42,
   "metadata": {},
   "outputs": [],
   "source": [
    "data = train_data.data.cpu().numpy()\n",
    "targets = train_data.targets.cpu().numpy()\n",
    "\n",
    "images = create_unsupervised_dataset(data,targets)\n",
    "\n",
    "X_train, X_valid = train_test_split(images, test_size=0.2,random_state=42)"
   ]
  },
  {
   "cell_type": "code",
   "execution_count": 50,
   "metadata": {},
   "outputs": [],
   "source": [
    "### CREATE CUSTOM PyTorch DATSET CLASS FOR OUT PARTICULAR DATSET ###\n",
    "\n",
    "import torch\n",
    "import torchvision\n",
    "from torch.utils.data import Dataset\n",
    "class MNISTAnomalyDataset(Dataset):\n",
    "    \"\"\"Face Landmarks dataset.\"\"\"\n",
    "\n",
    "    def __init__(self, X, transform=None):\n",
    "        \"\"\"\n",
    "        Args:\n",
    "            csv_file (string): Path to the csv file with annotations.\n",
    "            root_dir (string): Directory with all the images.\n",
    "            transform (callable, optional): Optional transform to be applied\n",
    "                on a sample.\n",
    "        \"\"\"\n",
    "        \n",
    "        self.X = np.uint8(X)\n",
    "        self.transform = transform\n",
    "\n",
    "    def __len__(self):\n",
    "        return len(self.X)\n",
    "\n",
    "    def __getitem__(self, idx):\n",
    "        \n",
    "        \n",
    "        if self.transform:\n",
    "             sampleX = self.transform(self.X[idx])\n",
    "\n",
    "        sample = (sampleX)\n",
    "\n",
    "\n",
    "\n",
    "        return sample"
   ]
  },
  {
   "cell_type": "code",
   "execution_count": 51,
   "metadata": {},
   "outputs": [],
   "source": [
    "from torchvision import transforms\n",
    "# convert data to torch.FloatTensor\n",
    "transform = transforms.ToTensor()\n",
    "\n",
    "data = {}\n",
    "\n",
    "data['train'] = MNISTAnomalyDataset(X_train, transform=transform)\n",
    "data['valid'] = MNISTAnomalyDataset(X_valid, transform=transform)\n",
    "\n",
    "loaders = {}\n",
    "\n",
    "batch_size=32\n",
    "\n",
    "loaders['train'] = torch.utils.data.DataLoader(data['train'], batch_size=32, num_workers=0, shuffle=True)\n",
    "loaders['valid'] = torch.utils.data.DataLoader(data['valid'], batch_size=32, num_workers=0)"
   ]
  },
  {
   "cell_type": "code",
   "execution_count": 53,
   "metadata": {},
   "outputs": [
    {
     "name": "stdout",
     "output_type": "stream",
     "text": [
      "(32, 1, 28, 28)\n"
     ]
    },
    {
     "data": {
      "text/plain": [
       "<matplotlib.image.AxesImage at 0x23b8cc639c8>"
      ]
     },
     "execution_count": 53,
     "metadata": {},
     "output_type": "execute_result"
    },
    {
     "data": {
      "image/png": "[encoded data removed]",
      "text/plain": [
       "<Figure size 360x360 with 1 Axes>"
      ]
     },
     "metadata": {
      "needs_background": "light"
     },
     "output_type": "display_data"
    }
   ],
   "source": [
    "import matplotlib.pyplot as plt\n",
    "%matplotlib inline\n",
    "    \n",
    "# obtain one batch of training images\n",
    "dataiter = iter(loaders['train'])\n",
    "images = dataiter.next()\n",
    "images = images.numpy()\n",
    "print(images.shape)\n",
    "# get one image from the batch\n",
    "img = np.squeeze(images[0])\n",
    "\n",
    "fig = plt.figure(figsize = (5,5)) \n",
    "ax = fig.add_subplot(111)\n",
    "ax.imshow(img, cmap='gray')"
   ]
  },
  {
   "cell_type": "code",
   "execution_count": 99,
   "metadata": {},
   "outputs": [
    {
     "name": "stdout",
     "output_type": "stream",
     "text": [
      "ConvAutoEncoder(\n",
      "  (conv1): Conv2d(1, 32, kernel_size=(3, 3), stride=(1, 1), padding=(1, 1))\n",
      "  (conv2): Conv2d(32, 16, kernel_size=(3, 3), stride=(1, 1), padding=(1, 1))\n",
      "  (conv3): Conv2d(16, 8, kernel_size=(3, 3), stride=(1, 1), padding=(1, 1))\n",
      "  (pool): MaxPool2d(kernel_size=2, stride=2, padding=0, dilation=1, ceil_mode=False)\n",
      "  (t_conv1): ConvTranspose2d(8, 8, kernel_size=(3, 3), stride=(2, 2))\n",
      "  (t_conv2): ConvTranspose2d(8, 16, kernel_size=(2, 2), stride=(2, 2))\n",
      "  (t_conv3): ConvTranspose2d(16, 32, kernel_size=(2, 2), stride=(2, 2))\n",
      "  (conv_out): Conv2d(32, 1, kernel_size=(3, 3), stride=(1, 1), padding=(1, 1))\n",
      ")\n"
     ]
    }
   ],
   "source": [
    "import torch.nn as nn\n",
    "import torch.nn.functional as F\n",
    "\n",
    "# define the NN architecture\n",
    "class ConvAutoEncoder(nn.Module):\n",
    "    def __init__(self):\n",
    "        super(ConvAutoEncoder, self).__init__()\n",
    "        ## encoder layers ##\n",
    "        # conv layer (depth from 1 --> 32), 3x3 kernels\n",
    "        self.conv1 = nn.Conv2d(1, 32, 3, padding=1)  \n",
    "        # conv layer (depth from 32 --> 16), 3x3 kernels\n",
    "        self.conv2 = nn.Conv2d(32, 16, 3, padding=1)\n",
    "        # conv layer (depth from 16 --> 8), 3x3 kernels\n",
    "        self.conv3 = nn.Conv2d(16, 8, 3, padding=1)\n",
    "        # pooling layer to reduce x-y dims by two; kernel and stride of 2\n",
    "        self.pool = nn.MaxPool2d(2, 2)\n",
    "        \n",
    "        ## decoder layers ##\n",
    "        # transpose layer, a kernel of 2 and a stride of 2 will increase the spatial dims by 2\n",
    "        self.t_conv1 = nn.ConvTranspose2d(8, 8, 3, stride=2)  # kernel_size=3 to get to a 7x7 image output\n",
    "        # two more transpose layers with a kernel of 2\n",
    "        self.t_conv2 = nn.ConvTranspose2d(8, 16, 2, stride=2)\n",
    "        self.t_conv3 = nn.ConvTranspose2d(16, 32, 2, stride=2)\n",
    "        # one, final, normal conv layer to decrease the depth\n",
    "        self.conv_out = nn.Conv2d(32, 1, 3, padding=1)\n",
    "\n",
    "\n",
    "    def forward(self, x):\n",
    "        ## encode ##\n",
    "        # add hidden layers with relu activation function\n",
    "        # and maxpooling after\n",
    "        x = F.relu(self.conv1(x))\n",
    "        x = self.pool(x)\n",
    "        # add second hidden layer\n",
    "        x = F.relu(self.conv2(x))\n",
    "        x = self.pool(x)\n",
    "        # add third hidden layer\n",
    "        x = F.relu(self.conv3(x))\n",
    "        x = self.pool(x)  # compressed representation\n",
    "        \n",
    "        ## decode ##\n",
    "        # add transpose conv layers, with relu activation function\n",
    "        x = F.relu(self.t_conv1(x))\n",
    "        x = F.relu(self.t_conv2(x))\n",
    "        x = F.relu(self.t_conv3(x))\n",
    "        # transpose again, output should have a sigmoid applied\n",
    "        x = F.sigmoid(self.conv_out(x))\n",
    "                \n",
    "        return x\n",
    "\n",
    "# initialize the NN\n",
    "model = ConvAutoEncoder()\n",
    "\n",
    "use_cuda = torch.cuda.is_available()\n",
    "if use_cuda:\n",
    "    model_transfer = model.cuda()\n",
    "print(model)"
   ]
  },
  {
   "cell_type": "code",
   "execution_count": 100,
   "metadata": {},
   "outputs": [],
   "source": [
    "def train(n_epochs, loaders, model, optimizer, criterion, use_cuda, save_path):\n",
    "    \"\"\"returns trained model\"\"\"\n",
    "    # initialize tracker for minimum validation loss\n",
    "    valid_loss_min = np.Inf \n",
    "    train_loss_list = []\n",
    "    valid_loss_list = []\n",
    "    \n",
    "    for epoch in range(1, n_epochs+1):\n",
    "        # initialize variables to monitor training and validation loss\n",
    "        train_loss = 0.0\n",
    "        valid_loss = 0.0\n",
    "        \n",
    "        ###################\n",
    "        # train the model #\n",
    "        ###################\n",
    "        model.train()\n",
    "        for batch_idx, (data) in enumerate(loaders['train']):\n",
    "            # move to GPU\n",
    "            if use_cuda:\n",
    "                data = data.cuda()\n",
    "            ## find the loss and update the model parameters accordingly\n",
    "            ## record the average training loss, using something like\n",
    "            ## train_loss = train_loss + ((1 / (batch_idx + 1)) * (loss.data - train_loss))\n",
    "            optimizer.zero_grad()\n",
    "            output = model.forward(data)\n",
    "            loss = criterion(output,data)\n",
    "            loss.backward()\n",
    "            optimizer.step()\n",
    "            \n",
    "            train_loss = train_loss + ((1 / (batch_idx + 1)) * (loss.data - train_loss))\n",
    "            \n",
    "            \n",
    "        ######################    \n",
    "        # validate the model #\n",
    "        ######################\n",
    "        model.eval()\n",
    "        with torch.no_grad():\n",
    "            for batch_idx, (data) in enumerate(loaders['valid']):\n",
    "                # move to GPU\n",
    "                if use_cuda:\n",
    "                    data = data.cuda()\n",
    "                ## update the average validation loss\n",
    "                \n",
    "                output = model.forward(data)\n",
    "                loss = criterion(output,data)\n",
    "                \n",
    "                valid_loss = valid_loss + ((1 / (batch_idx + 1)) * (loss.data - valid_loss))\n",
    "                \n",
    "            \n",
    "        # print training/validation statistics \n",
    "        print('Epoch: {} \\tTraining Loss: {:.6f} \\tValidation Loss: {:.6f}'.format(\n",
    "            epoch, \n",
    "            train_loss,\n",
    "            valid_loss\n",
    "            ))\n",
    "        \n",
    "        train_loss_list.append(train_loss.item())\n",
    "        valid_loss_list.append(valid_loss.item())\n",
    "        ## save the model if validation loss has decreased\n",
    "        if valid_loss < valid_loss_min:\n",
    "            \n",
    "            \n",
    "            print('Validation loss decreased ({:.6f} --> {:.6f}).  Saving model ...'.format(\n",
    "            valid_loss_min,\n",
    "            valid_loss))\n",
    "            torch.save(model.state_dict(), save_path)\n",
    "            valid_loss_min = valid_loss\n",
    "            \n",
    "    # return trained model\n",
    "    return model, train_loss_list, valid_loss_list"
   ]
  },
  {
   "cell_type": "code",
   "execution_count": 101,
   "metadata": {},
   "outputs": [],
   "source": [
    "# specify loss function\n",
    "criterion = nn.MSELoss()\n",
    "\n",
    "# specify loss function\n",
    "optimizer = torch.optim.Adam(model.parameters(), lr=0.001)"
   ]
  },
  {
   "cell_type": "code",
   "execution_count": 102,
   "metadata": {},
   "outputs": [
    {
     "name": "stdout",
     "output_type": "stream",
     "text": [
      "Epoch: 1 \tTraining Loss: 0.091397 \tValidation Loss: 0.062344\n",
      "Validation loss decreased (inf --> 0.062344).  Saving model ...\n",
      "Epoch: 2 \tTraining Loss: 0.043024 \tValidation Loss: 0.017670\n",
      "Validation loss decreased (0.062344 --> 0.017670).  Saving model ...\n",
      "Epoch: 3 \tTraining Loss: 0.009874 \tValidation Loss: 0.008182\n",
      "Validation loss decreased (0.017670 --> 0.008182).  Saving model ...\n",
      "Epoch: 4 \tTraining Loss: 0.007429 \tValidation Loss: 0.007381\n",
      "Validation loss decreased (0.008182 --> 0.007381).  Saving model ...\n",
      "Epoch: 5 \tTraining Loss: 0.006842 \tValidation Loss: 0.006884\n",
      "Validation loss decreased (0.007381 --> 0.006884).  Saving model ...\n",
      "Epoch: 6 \tTraining Loss: 0.006366 \tValidation Loss: 0.006352\n",
      "Validation loss decreased (0.006884 --> 0.006352).  Saving model ...\n",
      "Epoch: 7 \tTraining Loss: 0.005911 \tValidation Loss: 0.005929\n",
      "Validation loss decreased (0.006352 --> 0.005929).  Saving model ...\n",
      "Epoch: 8 \tTraining Loss: 0.005414 \tValidation Loss: 0.005502\n",
      "Validation loss decreased (0.005929 --> 0.005502).  Saving model ...\n",
      "Epoch: 9 \tTraining Loss: 0.004997 \tValidation Loss: 0.005111\n",
      "Validation loss decreased (0.005502 --> 0.005111).  Saving model ...\n",
      "Epoch: 10 \tTraining Loss: 0.004709 \tValidation Loss: 0.004794\n",
      "Validation loss decreased (0.005111 --> 0.004794).  Saving model ...\n",
      "Epoch: 11 \tTraining Loss: 0.004460 \tValidation Loss: 0.004581\n",
      "Validation loss decreased (0.004794 --> 0.004581).  Saving model ...\n",
      "Epoch: 12 \tTraining Loss: 0.004194 \tValidation Loss: 0.004754\n",
      "Epoch: 13 \tTraining Loss: 0.003966 \tValidation Loss: 0.004113\n",
      "Validation loss decreased (0.004581 --> 0.004113).  Saving model ...\n",
      "Epoch: 14 \tTraining Loss: 0.003782 \tValidation Loss: 0.003880\n",
      "Validation loss decreased (0.004113 --> 0.003880).  Saving model ...\n",
      "Epoch: 15 \tTraining Loss: 0.003660 \tValidation Loss: 0.003789\n",
      "Validation loss decreased (0.003880 --> 0.003789).  Saving model ...\n",
      "Epoch: 16 \tTraining Loss: 0.003558 \tValidation Loss: 0.003719\n",
      "Validation loss decreased (0.003789 --> 0.003719).  Saving model ...\n",
      "Epoch: 17 \tTraining Loss: 0.003459 \tValidation Loss: 0.003623\n",
      "Validation loss decreased (0.003719 --> 0.003623).  Saving model ...\n",
      "Epoch: 18 \tTraining Loss: 0.003381 \tValidation Loss: 0.003547\n",
      "Validation loss decreased (0.003623 --> 0.003547).  Saving model ...\n",
      "Epoch: 19 \tTraining Loss: 0.003295 \tValidation Loss: 0.003532\n",
      "Validation loss decreased (0.003547 --> 0.003532).  Saving model ...\n",
      "Epoch: 20 \tTraining Loss: 0.003213 \tValidation Loss: 0.003417\n",
      "Validation loss decreased (0.003532 --> 0.003417).  Saving model ...\n",
      "Epoch: 21 \tTraining Loss: 0.003165 \tValidation Loss: 0.003412\n",
      "Validation loss decreased (0.003417 --> 0.003412).  Saving model ...\n",
      "Epoch: 22 \tTraining Loss: 0.003117 \tValidation Loss: 0.003330\n",
      "Validation loss decreased (0.003412 --> 0.003330).  Saving model ...\n",
      "Epoch: 23 \tTraining Loss: 0.003044 \tValidation Loss: 0.003241\n",
      "Validation loss decreased (0.003330 --> 0.003241).  Saving model ...\n",
      "Epoch: 24 \tTraining Loss: 0.003001 \tValidation Loss: 0.003316\n",
      "Epoch: 25 \tTraining Loss: 0.002960 \tValidation Loss: 0.003182\n",
      "Validation loss decreased (0.003241 --> 0.003182).  Saving model ...\n",
      "Epoch: 26 \tTraining Loss: 0.002915 \tValidation Loss: 0.003146\n",
      "Validation loss decreased (0.003182 --> 0.003146).  Saving model ...\n",
      "Epoch: 27 \tTraining Loss: 0.002903 \tValidation Loss: 0.003148\n",
      "Epoch: 28 \tTraining Loss: 0.002846 \tValidation Loss: 0.003050\n",
      "Validation loss decreased (0.003146 --> 0.003050).  Saving model ...\n",
      "Epoch: 29 \tTraining Loss: 0.002837 \tValidation Loss: 0.003090\n",
      "Epoch: 30 \tTraining Loss: 0.002791 \tValidation Loss: 0.003058\n",
      "Epoch: 31 \tTraining Loss: 0.002754 \tValidation Loss: 0.002993\n",
      "Validation loss decreased (0.003050 --> 0.002993).  Saving model ...\n",
      "Epoch: 32 \tTraining Loss: 0.002727 \tValidation Loss: 0.002966\n",
      "Validation loss decreased (0.002993 --> 0.002966).  Saving model ...\n",
      "Epoch: 33 \tTraining Loss: 0.002699 \tValidation Loss: 0.002946\n",
      "Validation loss decreased (0.002966 --> 0.002946).  Saving model ...\n",
      "Epoch: 34 \tTraining Loss: 0.002676 \tValidation Loss: 0.002986\n",
      "Epoch: 35 \tTraining Loss: 0.002645 \tValidation Loss: 0.002873\n",
      "Validation loss decreased (0.002946 --> 0.002873).  Saving model ...\n",
      "Epoch: 36 \tTraining Loss: 0.002621 \tValidation Loss: 0.002886\n",
      "Epoch: 37 \tTraining Loss: 0.002609 \tValidation Loss: 0.002817\n",
      "Validation loss decreased (0.002873 --> 0.002817).  Saving model ...\n",
      "Epoch: 38 \tTraining Loss: 0.002581 \tValidation Loss: 0.002814\n",
      "Validation loss decreased (0.002817 --> 0.002814).  Saving model ...\n",
      "Epoch: 39 \tTraining Loss: 0.002555 \tValidation Loss: 0.002808\n",
      "Validation loss decreased (0.002814 --> 0.002808).  Saving model ...\n",
      "Epoch: 40 \tTraining Loss: 0.002536 \tValidation Loss: 0.002795\n",
      "Validation loss decreased (0.002808 --> 0.002795).  Saving model ...\n",
      "Epoch: 41 \tTraining Loss: 0.002524 \tValidation Loss: 0.002764\n",
      "Validation loss decreased (0.002795 --> 0.002764).  Saving model ...\n",
      "Epoch: 42 \tTraining Loss: 0.002523 \tValidation Loss: 0.002751\n",
      "Validation loss decreased (0.002764 --> 0.002751).  Saving model ...\n",
      "Epoch: 43 \tTraining Loss: 0.002490 \tValidation Loss: 0.002754\n",
      "Epoch: 44 \tTraining Loss: 0.002456 \tValidation Loss: 0.002714\n",
      "Validation loss decreased (0.002751 --> 0.002714).  Saving model ...\n",
      "Epoch: 45 \tTraining Loss: 0.002459 \tValidation Loss: 0.002694\n",
      "Validation loss decreased (0.002714 --> 0.002694).  Saving model ...\n",
      "Epoch: 46 \tTraining Loss: 0.002429 \tValidation Loss: 0.002701\n",
      "Epoch: 47 \tTraining Loss: 0.002466 \tValidation Loss: 0.002840\n",
      "Epoch: 48 \tTraining Loss: 0.002431 \tValidation Loss: 0.002674\n",
      "Validation loss decreased (0.002694 --> 0.002674).  Saving model ...\n",
      "Epoch: 49 \tTraining Loss: 0.002391 \tValidation Loss: 0.002776\n",
      "Epoch: 50 \tTraining Loss: 0.002381 \tValidation Loss: 0.002646\n",
      "Validation loss decreased (0.002674 --> 0.002646).  Saving model ...\n",
      "Epoch: 51 \tTraining Loss: 0.002366 \tValidation Loss: 0.002635\n",
      "Validation loss decreased (0.002646 --> 0.002635).  Saving model ...\n",
      "Epoch: 52 \tTraining Loss: 0.002346 \tValidation Loss: 0.002638\n",
      "Epoch: 53 \tTraining Loss: 0.002350 \tValidation Loss: 0.002608\n",
      "Validation loss decreased (0.002635 --> 0.002608).  Saving model ...\n",
      "Epoch: 54 \tTraining Loss: 0.002323 \tValidation Loss: 0.002630\n",
      "Epoch: 55 \tTraining Loss: 0.002311 \tValidation Loss: 0.002619\n",
      "Epoch: 56 \tTraining Loss: 0.002316 \tValidation Loss: 0.002707\n",
      "Epoch: 57 \tTraining Loss: 0.002290 \tValidation Loss: 0.002588\n",
      "Validation loss decreased (0.002608 --> 0.002588).  Saving model ...\n",
      "Epoch: 58 \tTraining Loss: 0.002268 \tValidation Loss: 0.002619\n",
      "Epoch: 59 \tTraining Loss: 0.002274 \tValidation Loss: 0.002569\n",
      "Validation loss decreased (0.002588 --> 0.002569).  Saving model ...\n",
      "Epoch: 60 \tTraining Loss: 0.002263 \tValidation Loss: 0.002559\n",
      "Validation loss decreased (0.002569 --> 0.002559).  Saving model ...\n"
     ]
    }
   ],
   "source": [
    "# train the model\n",
    "n_epochs = 60\n",
    "model_transfer, train_loss, valid_loss =  train(n_epochs, loaders, model, optimizer, criterion, use_cuda, 'conv_Autoencoder_anomaly_adam_lr0001.pt')"
   ]
  },
  {
   "cell_type": "code",
   "execution_count": 151,
   "metadata": {},
   "outputs": [
    {
     "name": "stderr",
     "output_type": "stream",
     "text": [
      "C:\\Users\\admin\\Anaconda3\\envs\\dlnanodegree\\lib\\site-packages\\torch\\nn\\functional.py:1351: UserWarning: nn.functional.sigmoid is deprecated. Use torch.sigmoid instead.\n",
      "  warnings.warn(\"nn.functional.sigmoid is deprecated. Use torch.sigmoid instead.\")\n"
     ]
    },
    {
     "data": {
      "image/png": "[encoded data removed]",
      "text/plain": [
       "<Figure size 1800x288 with 20 Axes>"
      ]
     },
     "metadata": {},
     "output_type": "display_data"
    }
   ],
   "source": [
    "# obtain one batch of test images\n",
    "dataiter = iter(loaders['valid'])\n",
    "images = dataiter.next()\n",
    "if use_cuda:\n",
    "    images = images.cuda()\n",
    "# get sample outputs\n",
    "output = model(images)\n",
    "# prep images for display\n",
    "images = images.cpu().numpy()\n",
    "batch_size = 32\n",
    "# output is resized into a batch of iages\n",
    "output = output.view(batch_size, 1, 28, 28)\n",
    "# use detach when it's an output that requires_grad\n",
    "output = output.cpu().detach().numpy()\n",
    "\n",
    "# plot the first ten input images and then reconstructed images\n",
    "fig, axes = plt.subplots(nrows=2, ncols=10, sharex=True, sharey=True, figsize=(25,4))\n",
    "\n",
    "# input images on top row, reconstructions on bottom\n",
    "for images, row in zip([images, output], axes):\n",
    "    for img, ax in zip(images, row):\n",
    "        ax.imshow(np.squeeze(img), cmap='gray')\n",
    "        ax.get_xaxis().set_visible(False)\n",
    "        ax.get_yaxis().set_visible(False)"
   ]
  },
  {
   "cell_type": "code",
   "execution_count": 104,
   "metadata": {},
   "outputs": [
    {
     "data": {
      "text/plain": [
       "[0.09139727056026459,\n",
       " 0.043023671954870224,\n",
       " 0.00987372174859047,\n",
       " 0.007428592070937157,\n",
       " 0.006841578986495733,\n",
       " 0.0063660950399935246,\n",
       " 0.005911406595259905,\n",
       " 0.005413626786321402,\n",
       " 0.004996584728360176,\n",
       " 0.004709395579993725,\n",
       " 0.00445958785712719,\n",
       " 0.004194156266748905,\n",
       " 0.003966346848756075,\n",
       " 0.003782432759180665,\n",
       " 0.0036600639577955008,\n",
       " 0.0035579181276261806,\n",
       " 0.0034589292481541634,\n",
       " 0.0033814324997365475,\n",
       " 0.00329515989869833,\n",
       " 0.0032133841887116432,\n",
       " 0.003165049245581031,\n",
       " 0.003117311978712678,\n",
       " 0.0030439230613410473,\n",
       " 0.003001145087182522,\n",
       " 0.002960306592285633,\n",
       " 0.0029154152143746614,\n",
       " 0.0029033576138317585,\n",
       " 0.0028459157329052687,\n",
       " 0.002836533822119236,\n",
       " 0.0027914138045161963,\n",
       " 0.0027537241112440825,\n",
       " 0.0027265860699117184,\n",
       " 0.002698985394090414,\n",
       " 0.002675935858860612,\n",
       " 0.0026447903364896774,\n",
       " 0.0026213231030851603,\n",
       " 0.00260939565487206,\n",
       " 0.0025806622579693794,\n",
       " 0.002554823411628604,\n",
       " 0.0025361021980643272,\n",
       " 0.0025241009425371885,\n",
       " 0.0025229270104318857,\n",
       " 0.0024897372350096703,\n",
       " 0.0024559455923736095,\n",
       " 0.0024590804241597652,\n",
       " 0.0024290881119668484,\n",
       " 0.0024655822198837996,\n",
       " 0.0024306681007146835,\n",
       " 0.0023908508010208607,\n",
       " 0.0023810244165360928,\n",
       " 0.0023658298887312412,\n",
       " 0.002345753600820899,\n",
       " 0.002350091002881527,\n",
       " 0.0023225080221891403,\n",
       " 0.0023113132920116186,\n",
       " 0.0023155612871050835,\n",
       " 0.0022897880990058184,\n",
       " 0.002268014010041952,\n",
       " 0.002273650374263525,\n",
       " 0.0022627925500273705]"
      ]
     },
     "execution_count": 104,
     "metadata": {},
     "output_type": "execute_result"
    }
   ],
   "source": [
    "train_loss"
   ]
  },
  {
   "cell_type": "code",
   "execution_count": 165,
   "metadata": {},
   "outputs": [],
   "source": [
    "def plot_and_save_Loss_Curve(n_epochs,train_losses,valid_losses,plot_file_name=\"plot.png\"):\n",
    "    N = np.arange(0, n_epochs)\n",
    "    plt.style.use(\"ggplot\")\n",
    "    plt.figure()\n",
    "    plt.plot(N, train_losses, label=\"train_loss\")\n",
    "    plt.plot(N, valid_losses, label=\"val_loss\")\n",
    "    plt.title(\"Training Loss\")\n",
    "    plt.xlabel(\"Epoch #\")\n",
    "    plt.ylabel(\"Loss\")\n",
    "    plt.legend(loc=\"lower left\")\n",
    "    plt.savefig(plot_file_name)"
   ]
  },
  {
   "cell_type": "code",
   "execution_count": 166,
   "metadata": {},
   "outputs": [
    {
     "data": {
      "image/png": "[encoded data removed]",
      "text/plain": [
       "<Figure size 432x288 with 1 Axes>"
      ]
     },
     "metadata": {},
     "output_type": "display_data"
    }
   ],
   "source": [
    "plot_and_save_Loss_Curve(n_epochs,train_loss,valid_loss)"
   ]
  },
  {
   "cell_type": "code",
   "execution_count": 169,
   "metadata": {},
   "outputs": [],
   "source": [
    "loss_data = {}\n",
    "loss_data['train_loss'] = train_loss\n",
    "loss_data['validation_loss'] = valid_loss\n",
    "\n",
    "import json\n",
    "import os\n",
    "\n",
    "if not os.path.isfile('loss_data.json'):\n",
    "    with open('loss_data.json', 'w') as file:\n",
    "        json.dump(loss_data, file)\n"
   ]
  },
  {
   "cell_type": "code",
   "execution_count": 158,
   "metadata": {},
   "outputs": [],
   "source": [
    "unsupervised_images = create_unsupervised_dataset(train_data.data.cpu().numpy(),train_data.targets.cpu().numpy())"
   ]
  },
  {
   "cell_type": "code",
   "execution_count": 159,
   "metadata": {},
   "outputs": [],
   "source": [
    "unsupervised_images = torch.unsqueeze(torch.tensor(np.uint8(unsupervised_images)).float(),1)\n",
    "if use_cuda:\n",
    "    unsupervised_images = unsupervised_images.cuda()"
   ]
  },
  {
   "cell_type": "code",
   "execution_count": 161,
   "metadata": {},
   "outputs": [],
   "source": [
    "decoded_outputs = model(unsupervised_images)"
   ]
  },
  {
   "cell_type": "code",
   "execution_count": 163,
   "metadata": {},
   "outputs": [
    {
     "data": {
      "text/plain": [
       "torch.Size([6809, 1, 28, 28])"
      ]
     },
     "execution_count": 163,
     "metadata": {},
     "output_type": "execute_result"
    }
   ],
   "source": [
    "decoded_outputs.size()"
   ]
  },
  {
   "cell_type": "code",
   "execution_count": 186,
   "metadata": {},
   "outputs": [],
   "source": [
    "errors = []\n",
    "\n",
    "# loop over all original images and their corresponding\n",
    "# reconstructions\n",
    "for (inputimg, outputimg) in zip(unsupervised_images.cpu().detach().numpy()/255.0, decoded_outputs.cpu().detach().numpy()/255.0):\n",
    "    # compute the mean squared error between the ground-truth image\n",
    "    # and the reconstructed image, then add it to our list of errors\n",
    "    mse = np.mean((inputimg - outputimg) ** 2)\n",
    "    errors.append(mse)"
   ]
  },
  {
   "cell_type": "code",
   "execution_count": 187,
   "metadata": {},
   "outputs": [
    {
     "data": {
      "text/plain": [
       "0.016250832"
      ]
     },
     "execution_count": 187,
     "metadata": {},
     "output_type": "execute_result"
    }
   ],
   "source": [
    "min(errors)"
   ]
  },
  {
   "cell_type": "code",
   "execution_count": 188,
   "metadata": {},
   "outputs": [
    {
     "name": "stdout",
     "output_type": "stream",
     "text": [
      "mse threshold: 0.17427635920047763\n",
      "7 outliers found\n"
     ]
    }
   ],
   "source": [
    "quantile = 0.999\n",
    "\n",
    "thresh = np.quantile(errors, quantile)\n",
    "idxs = np.where(np.array(errors) >= thresh)[0]\n",
    "print(\"mse threshold: {}\".format(thresh))\n",
    "print(\"{} outliers found\".format(len(idxs)))"
   ]
  },
  {
   "cell_type": "code",
   "execution_count": 189,
   "metadata": {},
   "outputs": [],
   "source": [
    "outlier_input_images = unsupervised_images[idxs].cpu().detach().numpy()\n",
    "outlier_output_images = decoded_outputs[idxs].cpu().detach().numpy()"
   ]
  },
  {
   "cell_type": "code",
   "execution_count": 190,
   "metadata": {},
   "outputs": [
    {
     "data": {
      "image/png": "[encoded data removed]",
      "text/plain": [
       "<Figure size 1800x288 with 14 Axes>"
      ]
     },
     "metadata": {},
     "output_type": "display_data"
    }
   ],
   "source": [
    "# plot the first ten input images and then reconstructed images\n",
    "fig, axes = plt.subplots(nrows=2, ncols=7, sharex=True, sharey=True, figsize=(25,4))\n",
    "\n",
    "# input images on top row, reconstructions on bottom\n",
    "for images, row in zip([outlier_input_images, outlier_output_images], axes):\n",
    "    for img, ax in zip(images, row):\n",
    "        ax.imshow(np.squeeze(img), cmap='gray')\n",
    "        ax.get_xaxis().set_visible(False)\n",
    "        ax.get_yaxis().set_visible(False)"
   ]
  },
  {
   "cell_type": "code",
   "execution_count": 191,
   "metadata": {},
   "outputs": [],
   "source": [
    "def detect_anomalies(unsupervised_images,decoded_outputs,quantile=0.999):\n",
    "    \n",
    "    errors = []\n",
    "\n",
    "    # loop over all original images and their corresponding\n",
    "    # reconstructions\n",
    "    for (inputimg, outputimg) in zip(unsupervised_images.cpu().detach().numpy(), decoded_outputs.cpu().detach().numpy()):\n",
    "        # compute the mean squared error between the ground-truth image\n",
    "        # and the reconstructed image, then add it to our list of errors\n",
    "        mse = np.mean((inputimg - outputimg) ** 2)\n",
    "        errors.append(mse)\n",
    "        \n",
    "    \n",
    "    quantile = 0.999\n",
    "\n",
    "    thresh = np.quantile(errors, quantile)\n",
    "    idxs = np.where(np.array(errors) >= thresh)[0]\n",
    "    print(\"mse threshold: {}\".format(thresh))\n",
    "    print(\"{} outliers found\".format(len(idxs)))\n",
    "    \n",
    "    quantile = 0.999\n",
    "\n",
    "    thresh = np.quantile(errors, quantile)\n",
    "    idxs = np.where(np.array(errors) >= thresh)[0]\n",
    "    print(\"mse threshold: {}\".format(thresh))\n",
    "    print(\"{} outliers found\".format(len(idxs)))\n",
    "    \n",
    "    \n",
    "    outlier_input_images = unsupervised_images[idxs].cpu().detach().numpy()\n",
    "    outlier_output_images = decoded_outputs[idxs].cpu().detach().numpy()\n",
    "    \n",
    "    # plot the first ten input images and then reconstructed images\n",
    "    fig, axes = plt.subplots(nrows=2, ncols=len(idxs), sharex=True, sharey=True, figsize=(25,4))\n",
    "\n",
    "    # input images on top row, reconstructions on bottom\n",
    "    for images, row in zip([outlier_input_images, outlier_output_images], axes):\n",
    "        for img, ax in zip(images, row):\n",
    "            ax.imshow(np.squeeze(img), cmap='gray')\n",
    "            ax.get_xaxis().set_visible(False)\n",
    "            ax.get_yaxis().set_visible(False)"
   ]
  },
  {
   "cell_type": "code",
   "execution_count": null,
   "metadata": {},
   "outputs": [],
   "source": []
  }
 ],
 "metadata": {
  "kernelspec": {
   "display_name": "Python 3",
   "language": "python",
   "name": "python3"
  },
  "language_info": {
   "codemirror_mode": {
    "name": "ipython",
    "version": 3
   },
   "file_extension": ".py",
   "mimetype": "text/x-python",
   "name": "python",
   "nbconvert_exporter": "python",
   "pygments_lexer": "ipython3",
   "version": "3.7.6"
  }
 },
 "nbformat": 4,
 "nbformat_minor": 4
}
